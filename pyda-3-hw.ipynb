{
 "cells": [
  {
   "cell_type": "markdown",
   "metadata": {},
   "source": [
    "## Задание 1"
   ]
  },
  {
   "cell_type": "markdown",
   "metadata": {},
   "source": [
    "Дан список вида:"
   ]
  },
  {
   "cell_type": "code",
   "execution_count": 1,
   "metadata": {},
   "outputs": [],
   "source": [
    "data = [\n",
    "    [13, 25, 23, 34],\n",
    "    [45, 32, 44, 47],\n",
    "    [12, 33, 23, 95],\n",
    "    [13, 53, 34, 35]\n",
    "]"
   ]
  },
  {
   "cell_type": "code",
   "execution_count": 2,
   "metadata": {},
   "outputs": [],
   "source": [
    "def diagonalSum(arr_data):\n",
    "    i = 0\n",
    "    _sum = 0\n",
    "    for arr in arr_data:\n",
    "        _sum += arr[i]\n",
    "        i += 1\n",
    "    return _sum"
   ]
  },
  {
   "cell_type": "code",
   "execution_count": 3,
   "metadata": {},
   "outputs": [
    {
     "data": {
      "text/plain": [
       "103"
      ]
     },
     "execution_count": 3,
     "metadata": {},
     "output_type": "execute_result"
    }
   ],
   "source": [
    "diagonalSum(data)"
   ]
  },
  {
   "cell_type": "markdown",
   "metadata": {},
   "source": [
    "Напишите функцию, которая возвращает сумму элементов на диагонали. Т. е. 13+32+23+35."
   ]
  },
  {
   "cell_type": "markdown",
   "metadata": {},
   "source": [
    "## Задание 2"
   ]
  },
  {
   "cell_type": "markdown",
   "metadata": {},
   "source": [
    "Дан список чисел, часть из которых имеют строковый тип или содержат буквы. Напишите функцию, которая возвращает сумму квадратов элементов, которые могут быть числами."
   ]
  },
  {
   "cell_type": "code",
   "execution_count": 4,
   "metadata": {},
   "outputs": [],
   "source": [
    "data = [1, '5', 'abc', 20, '2']"
   ]
  },
  {
   "cell_type": "code",
   "execution_count": 5,
   "metadata": {},
   "outputs": [],
   "source": [
    "def sumSq(_data):\n",
    "    _sum = 0\n",
    "    for d in _data:\n",
    "        try : \n",
    "            int(d)\n",
    "            _sum += d**2\n",
    "        except :\n",
    "            continue   \n",
    "    return _sum"
   ]
  },
  {
   "cell_type": "code",
   "execution_count": 6,
   "metadata": {},
   "outputs": [
    {
     "data": {
      "text/plain": [
       "401"
      ]
     },
     "execution_count": 6,
     "metadata": {},
     "output_type": "execute_result"
    }
   ],
   "source": [
    "sumSq(data)"
   ]
  },
  {
   "cell_type": "markdown",
   "metadata": {},
   "source": [
    "## Задание 3"
   ]
  },
  {
   "cell_type": "markdown",
   "metadata": {},
   "source": [
    "Напишите функцию, возвращающую сумму первых n чисел Фибоначчи."
   ]
  },
  {
   "cell_type": "code",
   "execution_count": null,
   "metadata": {},
   "outputs": [],
   "source": [
    "# насколько я понял, Чи́сла Фибона́ччи — элементы числовой последовательности, \n",
    "#в которой первые два числа равны либо 1 и 1, либо 0 и 1, а каждое последующее число равно сумме двух предыдущих чисел.\n",
    "# Поэтому помимо n (длины последовательности) ф-ция будет принимать первое число последовательности (f_num)"
   ]
  },
  {
   "cell_type": "code",
   "execution_count": 7,
   "metadata": {},
   "outputs": [],
   "source": [
    "def nNumFib(n, f_num=0, s_num=1, first_iteration=1):\n",
    "    if first_iteration == 1:\n",
    "        nNumFib._ar = [f_num, s_num]\n",
    "    next_num = f_num + s_num\n",
    "    n -= 1\n",
    "    if n >= 3:\n",
    "        nNumFib._ar.append(next_num)\n",
    "        nNumFib(n, s_num, next_num, 0)\n",
    "    else:\n",
    "        nNumFib._ar.append(next_num)\n",
    "        print(nNumFib._ar)\n",
    "        sum_Ar = sum(nNumFib._ar)\n",
    "        print(sum_Ar)\n",
    "        return sum_Ar\n",
    "    \n",
    "# Вопрос : почему не срабатывает return ?"
   ]
  },
  {
   "cell_type": "code",
   "execution_count": 8,
   "metadata": {},
   "outputs": [
    {
     "name": "stdout",
     "output_type": "stream",
     "text": [
      "[0, 1, 1, 2, 3, 5, 8, 13, 21, 34, 55, 89, 144, 233, 377]\n",
      "986\n"
     ]
    }
   ],
   "source": [
    "nNumFib(15)"
   ]
  },
  {
   "cell_type": "markdown",
   "metadata": {},
   "source": [
    "## Задание 4"
   ]
  },
  {
   "cell_type": "markdown",
   "metadata": {},
   "source": [
    "Дан набор данных об обучении студентов на курсе программирования, который содержит: \n",
    "1) имя\n",
    "2) фамилию \n",
    "3) пол \n",
    "4) наличие у студента опыта в программировании \n",
    "5) набор оценок за домашние работы \n",
    "6) оценку за итоговую работу.\n",
    "\n",
    "Напишите программу, которая будет принимать команду от пользователя и возвращать соотвествующий результат.\n",
    "Список команд: \n",
    "1 - вывести на экран среднюю оценку за все ДЗ по группе и вывести на экран среднюю оценку за экзамен по группе;\n",
    "2 - вывести среднюю оценку за ДЗ и за экзамен по группе в разрезе пола студентов\n",
    "3 - вывести среднюю оценку за ДЗ и за экзамен в разрезе наличия опыта в программировании у студентов.\n",
    "\n",
    "Прогрмма должна быть полностью декомпозирована на функции (кроме объявления функций и вызова итоговой функции в реализации ничего быть не должно)."
   ]
  },
  {
   "cell_type": "code",
   "execution_count": 9,
   "metadata": {},
   "outputs": [],
   "source": [
    "students_list = [\n",
    "    {'name': 'Василий', 'surname': 'Теркин', 'sex': 'м', 'program_exp': True, 'grade': [8, 8, 9, 10, 9], 'exam': 9},\n",
    "    {'name': 'Мария', 'surname': 'Павлова', 'sex': 'ж', 'program_exp': True, 'grade': [7, 8, 9, 7, 9], 'exam': 8},\n",
    "    {'name': 'Ирина', 'surname': 'Андреева', 'sex': 'ж', 'program_exp': True, 'grade': [10, 9, 8, 10, 10], 'exam': 10},\n",
    "    {'name': 'Татьяна', 'surname': 'Сидорова', 'sex': 'ж', 'program_exp': True, 'grade': [7, 8, 8, 9, 8], 'exam': 8},\n",
    "    {'name': 'Иван', 'surname': 'Васильев', 'sex': 'ж', 'program_exp': True, 'grade': [9, 8, 9, 6, 9], 'exam': 10},\n",
    "    {'name': 'Роман', 'surname': 'Золотарев', 'sex': 'ж', 'program_exp': False, 'grade': [8, 9, 9, 6, 9], 'exam': 10}\n",
    "]"
   ]
  },
  {
   "cell_type": "code",
   "execution_count": 10,
   "metadata": {},
   "outputs": [],
   "source": [
    "def meanGrade(s_list):\n",
    "    g = []\n",
    "    e = []\n",
    "    for s in s_list:\n",
    "        g += s.get('grade')\n",
    "        e.append(s.get('exam'))\n",
    "    _g = sum(g)/len(g)\n",
    "    _e = sum(e)/len(e)\n",
    "    print(_g)\n",
    "    print(_e)"
   ]
  },
  {
   "cell_type": "code",
   "execution_count": 11,
   "metadata": {},
   "outputs": [],
   "source": [
    "def meanGradeSex(s_list, sex):\n",
    "    g = []\n",
    "    e = []\n",
    "    for s in s_list:\n",
    "        if s.get('sex') == sex:\n",
    "            g += s.get('grade')\n",
    "            e.append(s.get('exam'))\n",
    "    _g = sum(g)/len(g)\n",
    "    _e = sum(e)/len(e)\n",
    "    print(_g)\n",
    "    print(_e)"
   ]
  },
  {
   "cell_type": "code",
   "execution_count": 12,
   "metadata": {},
   "outputs": [],
   "source": [
    "def meanGradeExp(s_list, exp):\n",
    "    if exp == \"False\":\n",
    "        _exp = False\n",
    "    elif exp == \"True\":\n",
    "        _exp = True\n",
    "    g = []\n",
    "    e = []\n",
    "    for s in s_list:\n",
    "        if s.get('program_exp') == _exp:\n",
    "            g += s.get('grade')\n",
    "            e.append(s.get('exam'))\n",
    "    _g = sum(g)/len(g)\n",
    "    _e = sum(e)/len(e)\n",
    "    print(_g)\n",
    "    print(_e)"
   ]
  },
  {
   "cell_type": "code",
   "execution_count": 13,
   "metadata": {},
   "outputs": [],
   "source": [
    "def checkList(s_list):\n",
    "    if type(students_list) != list:\n",
    "        print('err s_list type')\n",
    "        return False\n",
    "    for s in s_list:\n",
    "        if type(s) != dict:\n",
    "            print('err s type')\n",
    "            return False\n",
    "        try:\n",
    "            s['grade']\n",
    "            s['exam']\n",
    "            s['sex']\n",
    "            s['program_exp']\n",
    "        except:\n",
    "            print('Don\\'t get all needed values')\n",
    "            return False\n",
    "    return True"
   ]
  },
  {
   "cell_type": "code",
   "execution_count": 14,
   "metadata": {},
   "outputs": [],
   "source": [
    "def getSex(args):\n",
    "    str_args = []\n",
    "    for arg in args:\n",
    "        if type(arg) is str:\n",
    "            str_args.append(arg)\n",
    "    if len(str_args) == 0:\n",
    "        #print('no str')\n",
    "        return True\n",
    "    for _arg in str_args:    \n",
    "        if _arg not in ['м', 'ж']:\n",
    "            print('sex err')\n",
    "            return False\n",
    "    if len(str_args) > 1:\n",
    "        print('too much str')\n",
    "        return False\n",
    "    return str_args[0]"
   ]
  },
  {
   "cell_type": "code",
   "execution_count": 15,
   "metadata": {},
   "outputs": [],
   "source": [
    "def getExp(args):\n",
    "    bool_args = []\n",
    "    for arg in args:\n",
    "        if type(arg) is bool:\n",
    "            bool_args.append(arg)\n",
    "    if len(bool_args) == 0:\n",
    "        #print('no bool')\n",
    "        return True\n",
    "    if len(bool_args) > 1:\n",
    "        print('too much bool')\n",
    "        return False\n",
    "    return str(bool_args[0])"
   ]
  },
  {
   "cell_type": "code",
   "execution_count": 16,
   "metadata": {},
   "outputs": [],
   "source": [
    "def getCommands(args):\n",
    "    int_args = []\n",
    "    for arg in args:\n",
    "        if type(arg) is int:\n",
    "            int_args.append(arg)\n",
    "    for _arg in int_args:    \n",
    "        if _arg not in [1, 2, 3]:\n",
    "            print('arg value is not correct')\n",
    "            return False\n",
    "    return int_args       "
   ]
  },
  {
   "cell_type": "code",
   "execution_count": 17,
   "metadata": {},
   "outputs": [],
   "source": [
    "def Final(s_list, *args):\n",
    "    _args = [*args]\n",
    "\n",
    "    cL = checkList(s_list)\n",
    "    s = getSex(_args)\n",
    "    e = getExp(_args)\n",
    "    c = getCommands(_args)\n",
    "    #print(cL, s, e, c)\n",
    "    \n",
    "    if cL and s and e and c :\n",
    "        if 1 in c:\n",
    "            meanGrade(s_list)\n",
    "        if 2 in c:\n",
    "            meanGradeSex(s_list, s)\n",
    "        if 3 in c:\n",
    "            meanGradeExp(s_list, e)"
   ]
  },
  {
   "cell_type": "code",
   "execution_count": 18,
   "metadata": {},
   "outputs": [
    {
     "name": "stdout",
     "output_type": "stream",
     "text": [
      "8.433333333333334\n",
      "9.166666666666666\n",
      "8.8\n",
      "9.0\n",
      "8.2\n",
      "10.0\n"
     ]
    }
   ],
   "source": [
    "Final(students_list, 1, 2, 'м', False, 3)"
   ]
  }
 ],
 "metadata": {
  "kernelspec": {
   "display_name": "Python 3",
   "language": "python",
   "name": "python3"
  },
  "language_info": {
   "codemirror_mode": {
    "name": "ipython",
    "version": 3
   },
   "file_extension": ".py",
   "mimetype": "text/x-python",
   "name": "python",
   "nbconvert_exporter": "python",
   "pygments_lexer": "ipython3",
   "version": "3.6.4"
  }
 },
 "nbformat": 4,
 "nbformat_minor": 2
}
