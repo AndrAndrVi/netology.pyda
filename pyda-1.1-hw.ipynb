{
 "cells": [
  {
   "cell_type": "markdown",
   "metadata": {},
   "source": [
    "**Задание 1**. Даны 2 строки: *long_phrase* и *short_phrase*. \n",
    "Напишите код, который проверяет действительно ли длинная фраза *long_phrase* длиннее короткой *short_phrase*. И выводит *True* или *False* в зависимости от результата сравнения."
   ]
  },
  {
   "cell_type": "code",
   "execution_count": 1,
   "metadata": {},
   "outputs": [],
   "source": [
    "long_phrase = 'Насколько проще было бы писать программы, если бы не заказчики'\n",
    "short_phrase = '640Кб должно хватить для любых задач. Билл Гейтс (по легенде)'"
   ]
  },
  {
   "cell_type": "code",
   "execution_count": 2,
   "metadata": {},
   "outputs": [
    {
     "name": "stdout",
     "output_type": "stream",
     "text": [
      "Введите длинную фразу : 123\n",
      "Введите длинную фразу : 12345\n"
     ]
    }
   ],
   "source": [
    "long_phrase = input('Введите длинную фразу : ')\n",
    "short_phrase = input('Введите длинную фразу : ')"
   ]
  },
  {
   "cell_type": "code",
   "execution_count": 3,
   "metadata": {},
   "outputs": [
    {
     "name": "stdout",
     "output_type": "stream",
     "text": [
      "False\n"
     ]
    }
   ],
   "source": [
    "if len(str(long_phrase)) > len(str(short_phrase)) :\n",
    "    print(True)\n",
    "else :\n",
    "    print(False)"
   ]
  },
  {
   "cell_type": "code",
   "execution_count": 4,
   "metadata": {},
   "outputs": [
    {
     "name": "stdout",
     "output_type": "stream",
     "text": [
      "False\n"
     ]
    }
   ],
   "source": [
    "# или так\n",
    "result = len(str(long_phrase)) > len(str(short_phrase))\n",
    "print(result)"
   ]
  },
  {
   "cell_type": "markdown",
   "metadata": {},
   "source": [
    "**Задание 2**. Дано значение объема файла в байтах. Напишите перевод этого значения в мегабайты в формате: \"*Объем файла равен 213.68Mb*\""
   ]
  },
  {
   "cell_type": "code",
   "execution_count": 5,
   "metadata": {},
   "outputs": [
    {
     "name": "stdout",
     "output_type": "stream",
     "text": [
      "Bytes : 5555555555\n",
      "Объем файла равен 5298.19Mb\n"
     ]
    }
   ],
   "source": [
    "Bytes = input('Bytes : ')\n",
    "Mb = int(Bytes)/1024/1024\n",
    "\n",
    "print('Объем файла равен '+ str(round(Mb, 2)) +'Mb')"
   ]
  },
  {
   "cell_type": "markdown",
   "metadata": {},
   "source": [
    "**Задание 3**. Разработать приложение для определения знака зодиака по дате рождения. Пример:\n",
    "\n",
    "Введите месяц: март\n",
    "\n",
    "Введите число: 6\n",
    "\n",
    "Вывод:\n",
    "Рыбы"
   ]
  },
  {
   "cell_type": "code",
   "execution_count": 6,
   "metadata": {},
   "outputs": [
    {
     "name": "stdout",
     "output_type": "stream",
     "text": [
      "Введите месяц: сЕнТяБрЬ\n",
      "Введите число: 24\n",
      "Весы\n"
     ]
    }
   ],
   "source": [
    " # а 'Змееносца' учитывать?\n",
    "\n",
    "month = input('Введите месяц: ').lower()\n",
    "day = int(input('Введите число: '))\n",
    "\n",
    "if day < 0 and day < 31 :\n",
    "    print('Некорректная дата!')\n",
    "elif month == 'январь':\n",
    "    if day < 21:\n",
    "        sign = 'Козерог'\n",
    "    else :\n",
    "        sign = 'Водолей'\n",
    "elif month == 'февраль':\n",
    "    if day < 21:\n",
    "        sign = 'Водолей'\n",
    "    else :\n",
    "        sign = 'Рыбы'    \n",
    "elif month == 'март':\n",
    "    if day < 21:\n",
    "        sign = 'Рыбы'\n",
    "    else :\n",
    "        sign = 'Овен'    \n",
    "elif month == 'апрель':\n",
    "    if day < 21:\n",
    "        sign = 'Овен'\n",
    "    else :\n",
    "        sign = 'Телец'    \n",
    "elif month == 'май':\n",
    "    if day < 21:\n",
    "        sign = 'Телец'\n",
    "    else :\n",
    "        sign = 'Близнецы'    \n",
    "elif month == 'июнь':\n",
    "    if day < 22:\n",
    "        sign = 'Близнецы'\n",
    "    else :\n",
    "        sign = 'Рак'    \n",
    "elif month == 'июль':\n",
    "    if day < 23:\n",
    "        sign = 'Рак'\n",
    "    else :\n",
    "        sign = 'Лев'    \n",
    "elif month == 'август':\n",
    "    if day < 24:\n",
    "        sign = 'Лев'\n",
    "    else :\n",
    "        sign = 'Дева'    \n",
    "elif month == 'сентябрь':\n",
    "    if day < 24:\n",
    "        sign = 'Дева'\n",
    "    else :\n",
    "        sign = 'Весы'    \n",
    "elif month == 'октябрь':\n",
    "    if day < 24:\n",
    "        sign = 'Весы'\n",
    "    else :\n",
    "        sign = 'Скорпион'    \n",
    "elif month == 'ноябрь':\n",
    "    if day < 23:\n",
    "        sign = 'Скорпион'\n",
    "    else :\n",
    "        sign = 'Стрелец'    \n",
    "elif month == 'декабрь':\n",
    "    if day < 22:\n",
    "        sign = 'Стрелец'\n",
    "    else :\n",
    "        sign = 'Козерог'  \n",
    "        \n",
    "print(sign)"
   ]
  },
  {
   "cell_type": "markdown",
   "metadata": {},
   "source": [
    "**Задание 4**. Нужно разработать приложение для финансового планирования.\n",
    "Приложение учитывает сколько уходит на ипотеку, \"на жизнь\" и сколько нужно отложить на пенсию.\n",
    "Пользователь вводит:\n",
    "- заработанную плату в месяц.\n",
    "- сколько процентов от ЗП уходит на ипотеку.\n",
    "- сколько процентов от ЗП уходит \"на жизнь\".\n",
    "- сколько раз приходит премия в год.\n",
    "\n",
    "Остальная часть заработанной платы откладывается на пенсию.\n",
    "\n",
    "Также пользователю приходит премия в размере зарплаты, от которой половина уходит на отпуск, а вторая половина откладывается.\n",
    "\n",
    "Программа должна учитывать сколько премий было в год.\n",
    "\n",
    "Нужно вывести сколько денег тратит пользователь на ипотеку и сколько он накопит за год.\n",
    "\n",
    "Пример:\n",
    "\n",
    "Введите заработанную плату в месяц: 100000\n",
    "\n",
    "Введите сколько процентов уходит на ипотеку: 30\n",
    "\n",
    "Введите сколько процентов уходит на жизнь: 50\n",
    "\n",
    "Введите количество премий за год: 2\n",
    "\n",
    "Вывод:\n",
    "На ипотеку было потрачено: 360000 рублей\n",
    "Было накоплено: 340000 рублей"
   ]
  },
  {
   "cell_type": "code",
   "execution_count": 7,
   "metadata": {},
   "outputs": [
    {
     "name": "stdout",
     "output_type": "stream",
     "text": [
      "Введите заработанную плату в месяц: 100000\n",
      "Введите сколько процентов уходит на ипотеку:30\n",
      "Введите сколько процентов уходит на жизнь:50\n",
      "Введите количество премий за год:2\n",
      "На ипотеку было потрачено: 360000 рублей \n",
      "Было накоплено: 340000 рублей\n"
     ]
    }
   ],
   "source": [
    "# есдия правильно понял, то 'напоклено' значит 'откладывается на пенсию'\n",
    "\n",
    "salary = int(input('Введите заработанную плату в месяц: '))\n",
    "mortgage = int(input('Введите сколько процентов уходит на ипотеку:'))\n",
    "life = int(input('Введите сколько процентов уходит на жизнь:'))\n",
    "bonus = int(input('Введите количество премий за год:'))\n",
    "\n",
    "mortgageSpent = (salary*mortgage/100)*12\n",
    "saved = (salary*(1 - (mortgage/100 + life/100)))*12 + bonus*salary/2\n",
    "\n",
    "print('На ипотеку было потрачено: '+ str(round(mortgageSpent)) +' рублей \\nБыло накоплено: '+ str(round(saved)) +' рублей')"
   ]
  }
 ],
 "metadata": {
  "kernelspec": {
   "display_name": "Python 3",
   "language": "python",
   "name": "python3"
  },
  "language_info": {
   "codemirror_mode": {
    "name": "ipython",
    "version": 3
   },
   "file_extension": ".py",
   "mimetype": "text/x-python",
   "name": "python",
   "nbconvert_exporter": "python",
   "pygments_lexer": "ipython3",
   "version": "3.6.4"
  }
 },
 "nbformat": 4,
 "nbformat_minor": 2
}
